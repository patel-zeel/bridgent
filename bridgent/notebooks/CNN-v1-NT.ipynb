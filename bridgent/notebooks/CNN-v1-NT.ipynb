{
 "cells": [
  {
   "cell_type": "markdown",
   "metadata": {},
   "source": [
    "### Notes\n",
    "\n",
    "* changed shape[0] from 1 to 4"
   ]
  },
  {
   "cell_type": "code",
   "execution_count": 1,
   "metadata": {},
   "outputs": [],
   "source": [
    "%matplotlib inline"
   ]
  },
  {
   "cell_type": "code",
   "execution_count": 2,
   "metadata": {},
   "outputs": [],
   "source": [
    "import sys\n",
    "import numpy as np\n",
    "import tensorflow as tf\n",
    "\n",
    "from batcher import Batcher\n",
    "from metrics import acc012"
   ]
  },
  {
   "cell_type": "code",
   "execution_count": 3,
   "metadata": {},
   "outputs": [],
   "source": [
    "X_train = np.load('../../data/bin/train/deal.npy')\n",
    "y_train = np.load('../../data/bin/train/tricks_notrump.npy')\n",
    "\n",
    "X_val = np.load('../../data/bin/val/deal.npy')\n",
    "y_val = np.load('../../data/bin/val/tricks_notrump.npy')\n",
    "\n",
    "n_examples = X_train.shape[0]\n",
    "\n",
    "n_h = X_train.shape[1]\n",
    "n_w = X_train.shape[2]\n",
    "n_c = X_train.shape[3]\n",
    "\n",
    "batch_size = 64\n",
    "n_iterations = 2000000\n",
    "display_step = 100000\n",
    "\n",
    "learning_rate = 0.001\n",
    "\n",
    "n_hidden_units = 128\n",
    "\n",
    "l2_reg = 0.05"
   ]
  },
  {
   "cell_type": "code",
   "execution_count": 4,
   "metadata": {},
   "outputs": [
    {
     "data": {
      "text/plain": [
       "((10800000, 4, 13, 4), (100000, 4, 13, 4), (10800000, 1), (100000, 1))"
      ]
     },
     "execution_count": 4,
     "metadata": {},
     "output_type": "execute_result"
    }
   ],
   "source": [
    "X_train.shape, X_val.shape, y_train.shape, y_val.shape"
   ]
  },
  {
   "cell_type": "code",
   "execution_count": 5,
   "metadata": {},
   "outputs": [
    {
     "name": "stdout",
     "output_type": "stream",
     "text": [
      "WARNING:tensorflow:\n",
      "The TensorFlow contrib module will not be included in TensorFlow 2.0.\n",
      "For more information, please see:\n",
      "  * https://github.com/tensorflow/community/blob/master/rfcs/20180907-contrib-sunset.md\n",
      "  * https://github.com/tensorflow/addons\n",
      "  * https://github.com/tensorflow/io (for I/O related ops)\n",
      "If you depend on functionality not listed there, please file an issue.\n",
      "\n",
      "WARNING:tensorflow:From /home/patel_zeel/anaconda3/envs/tf1.15/lib/python3.7/site-packages/tensorflow_core/contrib/layers/python/layers/layers.py:1634: flatten (from tensorflow.python.layers.core) is deprecated and will be removed in a future version.\n",
      "Instructions for updating:\n",
      "Use keras.layers.flatten instead.\n",
      "WARNING:tensorflow:From /home/patel_zeel/anaconda3/envs/tf1.15/lib/python3.7/site-packages/tensorflow_core/python/layers/core.py:332: Layer.apply (from tensorflow.python.keras.engine.base_layer) is deprecated and will be removed in a future version.\n",
      "Instructions for updating:\n",
      "Please use `layer.__call__` method instead.\n"
     ]
    }
   ],
   "source": [
    "X = tf.placeholder(tf.float32, shape=[None, n_h, n_w, n_c])\n",
    "Y = tf.placeholder(tf.float32, shape=[1, None])\n",
    "strides = [1,1,1,1]\n",
    "\n",
    "conv1_w = tf.get_variable('c1w', shape=[4, 4, 4, 32], dtype=tf.float32, initializer=tf.contrib.layers.xavier_initializer(seed=1337))\n",
    "conv1_z = tf.nn.conv2d(X, filter=conv1_w, strides=strides, padding='SAME')\n",
    "conv1_a = tf.nn.relu(conv1_z)\n",
    "\n",
    "conv2_w = tf.get_variable('c2w', shape=[4, 4, 32, 64], dtype=tf.float32, initializer=tf.contrib.layers.xavier_initializer(seed=1337))\n",
    "conv2_z = tf.nn.conv2d(conv1_a, filter=conv2_w, strides=strides, padding='SAME')\n",
    "conv2_a = tf.nn.relu(conv2_z)\n",
    "\n",
    "conv3_w = tf.get_variable('c3w', shape=[4, 4, 64, 128], dtype=tf.float32, initializer=tf.contrib.layers.xavier_initializer(seed=1337))\n",
    "conv3_z = tf.nn.conv2d(conv2_a, filter=conv3_w, strides=strides, padding='SAME')\n",
    "conv3_a = tf.nn.relu(conv3_z)\n",
    "\n",
    "conv4_w = tf.get_variable('c4w', shape=[4, 4, 128, 512], dtype=tf.float32, initializer=tf.contrib.layers.xavier_initializer(seed=1337))\n",
    "conv4_z = tf.nn.conv2d(conv3_a, filter=conv4_w, strides=strides, padding='VALID')\n",
    "conv4_a = tf.nn.relu(conv4_z)\n",
    "\n",
    "fc_in = tf.contrib.layers.flatten(conv4_a)\n",
    "fc_w = tf.get_variable('fcw', shape=[n_hidden_units, fc_in.shape.as_list()[1]], dtype=tf.float32, initializer=tf.contrib.layers.xavier_initializer(seed=1337))\n",
    "fc_b = tf.Variable(np.zeros((n_hidden_units, 1)), dtype=tf.float32)\n",
    "fc_z = tf.add(tf.matmul(fc_w, tf.transpose(fc_in)), fc_b)\n",
    "fc_a = tf.nn.relu(fc_z)\n",
    "\n",
    "w_out = tf.get_variable('w_out', shape=[1, n_hidden_units], dtype=tf.float32, initializer=tf.contrib.layers.xavier_initializer(seed=1337))\n",
    "b_out = tf.Variable(np.zeros((1, 1)), dtype=tf.float32)\n",
    "pred = tf.add(tf.matmul(w_out, fc_a), b_out)"
   ]
  },
  {
   "cell_type": "code",
   "execution_count": 6,
   "metadata": {},
   "outputs": [],
   "source": [
    "cost = tf.reduce_mean(tf.squared_difference(pred, Y))"
   ]
  },
  {
   "cell_type": "code",
   "execution_count": 7,
   "metadata": {},
   "outputs": [],
   "source": [
    "optimizer = tf.train.MomentumOptimizer(learning_rate, momentum=0.9).minimize(cost)"
   ]
  },
  {
   "cell_type": "code",
   "execution_count": 8,
   "metadata": {},
   "outputs": [],
   "source": [
    "init = tf.global_variables_initializer()"
   ]
  },
  {
   "cell_type": "code",
   "execution_count": 9,
   "metadata": {},
   "outputs": [],
   "source": [
    "batch = Batcher(n_examples, batch_size)\n",
    "cost_train_batch = Batcher(n_examples, 10000)\n",
    "cost_val_batch = Batcher(100000, 10000)"
   ]
  },
  {
   "cell_type": "code",
   "execution_count": 10,
   "metadata": {},
   "outputs": [
    {
     "name": "stdout",
     "output_type": "stream",
     "text": [
      "*it=0 cost=43.30069351196289\n",
      "(0.0177, 0.0542, 0.1125)\n",
      "(0.0169, 0.0516, 0.1139)\n",
      "*it=100000 cost=0.811424732208252\n",
      "(0.4677, 0.908, 0.9876)\n",
      "(0.461, 0.9131, 0.9882)\n",
      "*it=200000 cost=0.6550103425979614\n",
      "(0.513, 0.933, 0.9911)\n",
      "(0.5141, 0.9321, 0.9917)\n",
      "*it=300000 cost=0.5267388820648193\n",
      "(0.5689, 0.9562, 0.994)\n",
      "(0.5676, 0.9521, 0.9939)\n",
      "*it=400000 cost=0.4866940379142761\n",
      "(0.5914, 0.9608, 0.996)\n",
      "(0.5854, 0.9587, 0.9958)\n",
      "*it=500000 cost=0.42825058102607727\n",
      "(0.6086, 0.9698, 0.9974)\n",
      "(0.6064, 0.966, 0.9962)\n",
      "*it=600000 cost=0.40252405405044556\n",
      "(0.6211, 0.9731, 0.9977)\n",
      "(0.6109, 0.9711, 0.9971)\n",
      "*it=700000 cost=0.39047911763191223\n",
      "(0.6267, 0.9719, 0.9983)\n",
      "(0.6223, 0.97, 0.996)\n",
      "*it=800000 cost=0.3605946898460388\n",
      "(0.6497, 0.9784, 0.9979)\n",
      "(0.6454, 0.9776, 0.9969)\n",
      "*it=900000 cost=0.3551674783229828\n",
      "(0.6568, 0.9775, 0.998)\n",
      "(0.6479, 0.9744, 0.9979)\n",
      "*it=1000000 cost=0.3315379321575165\n",
      "(0.6652, 0.9816, 0.9984)\n",
      "(0.6629, 0.9761, 0.9982)\n",
      "*it=1100000 cost=0.3272269368171692\n",
      "(0.667, 0.982, 0.9987)\n",
      "(0.6609, 0.9781, 0.9976)\n",
      "*it=1200000 cost=0.3171924352645874\n",
      "(0.6768, 0.9831, 0.9981)\n",
      "(0.6605, 0.9794, 0.9982)\n",
      "*it=1300000 cost=0.33897271752357483\n",
      "(0.6628, 0.9801, 0.9981)\n",
      "(0.6399, 0.976, 0.9981)\n",
      "*it=1400000 cost=0.30251920223236084\n",
      "(0.6911, 0.9837, 0.9986)\n",
      "(0.6641, 0.9803, 0.9976)\n",
      "*it=1500000 cost=0.2961716651916504\n",
      "(0.686, 0.9843, 0.9993)\n",
      "(0.6723, 0.9809, 0.9983)\n",
      "*it=1600000 cost=0.2859290540218353\n",
      "(0.6939, 0.9877, 0.9996)\n",
      "(0.6846, 0.9811, 0.998)\n",
      "*it=1700000 cost=0.285308301448822\n",
      "(0.6999, 0.9865, 0.999)\n",
      "(0.6853, 0.9814, 0.9984)\n",
      "*it=1800000 cost=0.2857637405395508\n",
      "(0.6964, 0.9874, 0.9989)\n",
      "(0.6783, 0.9802, 0.9978)\n",
      "*it=1900000 cost=0.27476266026496887\n",
      "(0.7091, 0.9868, 0.9998)\n",
      "(0.6783, 0.9816, 0.9985)\n",
      "\n",
      "\n",
      "Testing\n",
      "(0.68139, 0.98248, 0.99831)\n"
     ]
    }
   ],
   "source": [
    "costs = []\n",
    "\n",
    "with tf.Session() as sess:\n",
    "    sess.run(init)\n",
    "    \n",
    "    for iteration in range(n_iterations):\n",
    "        x_batch, y_batch = batch.next_batch([X_train, y_train])\n",
    "        \n",
    "        if iteration % display_step == 0:\n",
    "            sys.stdout.write('*')\n",
    "            x_batch_c, y_batch_c = cost_train_batch.next_batch([X_train, y_train])\n",
    "            x_batch_v, y_batch_v = cost_val_batch.next_batch([X_val, y_val])\n",
    "            c = sess.run(cost, feed_dict={X: x_batch_c, Y: y_batch_c.T})\n",
    "            costs.append(c)\n",
    "            pred_train = sess.run(pred, feed_dict={X: x_batch_c, Y: y_batch_c.T})\n",
    "            pred_val = sess.run(pred, feed_dict={X: x_batch_v, Y: y_batch_v.T})\n",
    "            print('it={} cost={}'.format(iteration, c))\n",
    "            print(acc012(y_batch_c, pred_train.T))\n",
    "            print(acc012(y_batch_v, pred_val.T))\n",
    "            \n",
    "        sess.run(optimizer, feed_dict={X:x_batch, Y:y_batch.T})\n",
    "    \n",
    "    # Testing\n",
    "    graph = tf.get_default_graph()\n",
    "    \n",
    "    X_test = np.load('../../data/bin/test/deal.npy')\n",
    "    y_test = np.load('../../data/bin/test/tricks_notrump.npy')\n",
    "    \n",
    "    print('\\n\\nTesting')\n",
    "    predictions = sess.run(pred, feed_dict = {X:X_test})\n",
    "\n",
    "    print(acc012(y_test.ravel(), predictions.round().ravel()))"
   ]
  },
  {
   "cell_type": "code",
   "execution_count": 11,
   "metadata": {},
   "outputs": [],
   "source": [
    "import pandas as pd\n",
    "path = '../../bridgent/preds/z_v1_preds.pickle'\n",
    "pd.to_pickle({'preds':predictions, 'acc012':acc012(y_test.ravel(), predictions.round().ravel())}, path)"
   ]
  },
  {
   "cell_type": "code",
   "execution_count": 12,
   "metadata": {},
   "outputs": [
    {
     "data": {
      "text/plain": [
       "{'preds': array([[5.1837964, 3.212062 , 7.1013417, ..., 5.3013005, 6.2725463,\n",
       "         7.7386165]], dtype=float32),\n",
       " 'acc012': (0.68139, 0.98248, 0.99831)}"
      ]
     },
     "execution_count": 12,
     "metadata": {},
     "output_type": "execute_result"
    }
   ],
   "source": [
    "pd.read_pickle(path)"
   ]
  }
 ],
 "metadata": {
  "kernelspec": {
   "display_name": "Python 3",
   "language": "python",
   "name": "python3"
  },
  "language_info": {
   "codemirror_mode": {
    "name": "ipython",
    "version": 3
   },
   "file_extension": ".py",
   "mimetype": "text/x-python",
   "name": "python",
   "nbconvert_exporter": "python",
   "pygments_lexer": "ipython3",
   "version": "3.7.10"
  }
 },
 "nbformat": 4,
 "nbformat_minor": 2
}
