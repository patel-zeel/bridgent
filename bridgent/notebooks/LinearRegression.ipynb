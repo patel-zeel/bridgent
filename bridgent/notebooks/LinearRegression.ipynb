{
 "cells": [
  {
   "cell_type": "code",
   "execution_count": 1,
   "metadata": {},
   "outputs": [],
   "source": [
    "%matplotlib inline"
   ]
  },
  {
   "cell_type": "code",
   "execution_count": 2,
   "metadata": {},
   "outputs": [],
   "source": [
    "import numpy as np\n",
    "import tensorflow as tf\n",
    "\n",
    "from batcher import Batcher\n",
    "from metrics import acc012"
   ]
  },
  {
   "cell_type": "code",
   "execution_count": 3,
   "metadata": {},
   "outputs": [],
   "source": [
    "np.random.seed(1337)"
   ]
  },
  {
   "cell_type": "code",
   "execution_count": 5,
   "metadata": {},
   "outputs": [],
   "source": [
    "X_train = np.load('../../data/bin/train/deal.npy')\n",
    "y_train = np.load('../../data/bin/train/tricks_spades.npy')\n",
    "\n",
    "X_val = np.load('../../data/bin/val/deal.npy')\n",
    "y_val = np.load('../../data/bin/val/tricks_spades.npy')\n",
    "X_val = X_val.reshape((X_val.shape[0], -1))\n",
    "y_val = y_val.reshape((y_val.shape[0], 1))\n",
    "\n",
    "n_examples = X_train.shape[0]\n",
    "\n",
    "X_train = X_train.reshape((n_examples, -1))\n",
    "y_train = y_train.reshape((n_examples, 1))\n",
    "\n",
    "n_dim = X_train.shape[1]\n",
    "assert(n_dim == 208)\n",
    "\n",
    "batch_size = 64\n",
    "n_iterations = 10000\n",
    "display_step = 1000\n",
    "\n",
    "learning_rate = 0.001"
   ]
  },
  {
   "cell_type": "code",
   "execution_count": 6,
   "metadata": {},
   "outputs": [],
   "source": [
    "X = tf.placeholder(tf.float32, [None, n_dim])\n",
    "Y = tf.placeholder(tf.float32, [None, 1])"
   ]
  },
  {
   "cell_type": "code",
   "execution_count": 7,
   "metadata": {},
   "outputs": [],
   "source": [
    "W = tf.Variable(np.zeros((n_dim, 1)), dtype=tf.float32, name='weights')"
   ]
  },
  {
   "cell_type": "code",
   "execution_count": 8,
   "metadata": {},
   "outputs": [],
   "source": [
    "pred = tf.matmul(X, W)"
   ]
  },
  {
   "cell_type": "code",
   "execution_count": 9,
   "metadata": {},
   "outputs": [],
   "source": [
    "rmse = tf.sqrt(tf.reduce_mean(tf.squared_difference(pred, Y)))"
   ]
  },
  {
   "cell_type": "code",
   "execution_count": 10,
   "metadata": {},
   "outputs": [],
   "source": [
    "cost = tf.reduce_mean(tf.squared_difference(pred, Y))"
   ]
  },
  {
   "cell_type": "code",
   "execution_count": 11,
   "metadata": {},
   "outputs": [],
   "source": [
    "optimizer = tf.train.GradientDescentOptimizer(learning_rate).minimize(cost)"
   ]
  },
  {
   "cell_type": "code",
   "execution_count": 12,
   "metadata": {},
   "outputs": [],
   "source": [
    "init = tf.global_variables_initializer()"
   ]
  },
  {
   "cell_type": "code",
   "execution_count": 13,
   "metadata": {},
   "outputs": [],
   "source": [
    "batch = Batcher(n_examples, batch_size)"
   ]
  },
  {
   "cell_type": "code",
   "execution_count": null,
   "metadata": {},
   "outputs": [],
   "source": [
    "with tf.Session() as sess:\n",
    "    sess.run(init)\n",
    "    \n",
    "    for iteration in range(n_iterations):\n",
    "        x_batch, y_batch = batch.next_batch([X_train, y_train])\n",
    "        \n",
    "        sess.run(optimizer, feed_dict={X:x_batch, Y:y_batch})\n",
    "        \n",
    "        if iteration % display_step == 0:\n",
    "            c = sess.run(cost, feed_dict={X: X_train, Y: y_train})\n",
    "            rms_error = sess.run(rmse, feed_dict={X: X_train, Y: y_train})\n",
    "            pred_train = sess.run(pred, feed_dict={X: X_train, Y: y_train})\n",
    "            pred_val = sess.run(pred, feed_dict={X: X_val, Y: y_val})\n",
    "            print('it={} cost={} rmse={}'.format(iteration, c, rms_error))\n",
    "            print(acc012(y_train, pred_train))\n",
    "            print(acc012(y_val, pred_val))\n",
    "            \n",
    "    predictions = sess.run(pred, feed_dict={X: X_train, Y: y_train})\n",
    "        "
   ]
  },
  {
   "cell_type": "code",
   "execution_count": null,
   "metadata": {},
   "outputs": [],
   "source": []
  }
 ],
 "metadata": {
  "kernelspec": {
   "display_name": "Python 3",
   "language": "python",
   "name": "python3"
  },
  "language_info": {
   "codemirror_mode": {
    "name": "ipython",
    "version": 3
   },
   "file_extension": ".py",
   "mimetype": "text/x-python",
   "name": "python",
   "nbconvert_exporter": "python",
   "pygments_lexer": "ipython3",
   "version": "3.7.10"
  }
 },
 "nbformat": 4,
 "nbformat_minor": 2
}
